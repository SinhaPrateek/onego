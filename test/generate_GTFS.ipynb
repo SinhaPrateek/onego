{
 "cells": [
  {
   "cell_type": "code",
   "execution_count": 2,
   "metadata": {},
   "outputs": [],
   "source": [
    "import pandas as pd\n",
    "import re"
   ]
  },
  {
   "cell_type": "code",
   "execution_count": 3,
   "metadata": {},
   "outputs": [],
   "source": [
    "file_indigo = r\"/home/xena/Desktop/prateek/oneGo/onego_poc1/files/flight_schedules/FlightSchedule_Indigo.xlsx\"\n",
    "\n",
    "schedule_indigo = pd.read_excel(file_indigo)"
   ]
  },
  {
   "cell_type": "code",
   "execution_count": 4,
   "metadata": {},
   "outputs": [
    {
     "name": "stdout",
     "output_type": "stream",
     "text": [
      "<class 'pandas.core.frame.DataFrame'>\n",
      "RangeIndex: 107001 entries, 0 to 107000\n",
      "Data columns (total 10 columns):\n",
      "Origin               107001 non-null object\n",
      "Destination          107001 non-null object\n",
      "6E FlightNumber      107001 non-null object\n",
      "Departure(LT)        107001 non-null object\n",
      "Arrival(LT)          107001 non-null object\n",
      "Flight Type          107001 non-null object\n",
      "Via                  107001 non-null object\n",
      "Days Of Operation    107001 non-null object\n",
      "Effective From       107001 non-null object\n",
      "Effective To         107001 non-null object\n",
      "dtypes: object(10)\n",
      "memory usage: 8.2+ MB\n"
     ]
    }
   ],
   "source": [
    "schedule_indigo.info()"
   ]
  },
  {
   "cell_type": "code",
   "execution_count": 5,
   "metadata": {},
   "outputs": [],
   "source": [
    "def separate_code(x):\n",
    "    list = str(x).split('(')\n",
    "    code = list[-1].rstrip(')').strip(' ')\n",
    "    name = list[0].strip(' ')\n",
    "#     print(name)\n",
    "    return (name,code)"
   ]
  },
  {
   "cell_type": "code",
   "execution_count": 6,
   "metadata": {},
   "outputs": [],
   "source": [
    "schedule_indigo.loc[:,'Origin_Code'] = schedule_indigo['Origin'].apply(lambda x:separate_code(x)[1])\n",
    "schedule_indigo.loc[:,'Origin_Name'] = schedule_indigo['Origin'].apply(lambda x:separate_code(x)[0])\n",
    "\n",
    "schedule_indigo.loc[:,'Destination_Code'] = schedule_indigo['Destination'].apply(lambda x:separate_code(x)[1])\n",
    "schedule_indigo.loc[:,'Destination_Name'] = schedule_indigo['Destination'].apply(lambda x:separate_code(x)[0])"
   ]
  },
  {
   "cell_type": "code",
   "execution_count": 22,
   "metadata": {},
   "outputs": [
    {
     "data": {
      "text/html": [
       "<div>\n",
       "<style scoped>\n",
       "    .dataframe tbody tr th:only-of-type {\n",
       "        vertical-align: middle;\n",
       "    }\n",
       "\n",
       "    .dataframe tbody tr th {\n",
       "        vertical-align: top;\n",
       "    }\n",
       "\n",
       "    .dataframe thead th {\n",
       "        text-align: right;\n",
       "    }\n",
       "</style>\n",
       "<table border=\"1\" class=\"dataframe\">\n",
       "  <thead>\n",
       "    <tr style=\"text-align: right;\">\n",
       "      <th></th>\n",
       "      <th>Origin</th>\n",
       "      <th>Destination</th>\n",
       "      <th>6E FlightNumber</th>\n",
       "      <th>Departure(LT)</th>\n",
       "      <th>Arrival(LT)</th>\n",
       "      <th>Flight Type</th>\n",
       "      <th>Via</th>\n",
       "      <th>Days Of Operation</th>\n",
       "      <th>Effective From</th>\n",
       "      <th>Effective To</th>\n",
       "      <th>Origin_Code</th>\n",
       "      <th>Origin_Name</th>\n",
       "      <th>Destination_Code</th>\n",
       "      <th>Destination_Name</th>\n",
       "    </tr>\n",
       "  </thead>\n",
       "  <tbody>\n",
       "    <tr>\n",
       "      <th>0</th>\n",
       "      <td>Abu Dhabi (AUH)</td>\n",
       "      <td>Agartala (IXA)</td>\n",
       "      <td>6E 1834/6E 321/6E 892</td>\n",
       "      <td>23:30</td>\n",
       "      <td>15:45</td>\n",
       "      <td>Connecting</td>\n",
       "      <td>BOM/CCU</td>\n",
       "      <td>Daily</td>\n",
       "      <td>12-Jul-19</td>\n",
       "      <td>25-Oct-19</td>\n",
       "      <td>AUH</td>\n",
       "      <td>Abu Dhabi</td>\n",
       "      <td>IXA</td>\n",
       "      <td>Agartala</td>\n",
       "    </tr>\n",
       "    <tr>\n",
       "      <th>1</th>\n",
       "      <td>Abu Dhabi (AUH)</td>\n",
       "      <td>Agartala (IXA)</td>\n",
       "      <td>6E 1834/6E 6749/6E 892</td>\n",
       "      <td>23:30</td>\n",
       "      <td>15:45</td>\n",
       "      <td>Connecting</td>\n",
       "      <td>BOM/CCU</td>\n",
       "      <td>Daily</td>\n",
       "      <td>12-Jul-19</td>\n",
       "      <td>25-Oct-19</td>\n",
       "      <td>AUH</td>\n",
       "      <td>Abu Dhabi</td>\n",
       "      <td>IXA</td>\n",
       "      <td>Agartala</td>\n",
       "    </tr>\n",
       "    <tr>\n",
       "      <th>2</th>\n",
       "      <td>Abu Dhabi (AUH)</td>\n",
       "      <td>Agartala (IXA)</td>\n",
       "      <td>6E 1834/6E 321/6E 374</td>\n",
       "      <td>23:30</td>\n",
       "      <td>18:50</td>\n",
       "      <td>Connecting</td>\n",
       "      <td>BOM/CCU</td>\n",
       "      <td>Except TUE</td>\n",
       "      <td>15-Jun-19</td>\n",
       "      <td>06-Aug-19</td>\n",
       "      <td>AUH</td>\n",
       "      <td>Abu Dhabi</td>\n",
       "      <td>IXA</td>\n",
       "      <td>Agartala</td>\n",
       "    </tr>\n",
       "    <tr>\n",
       "      <th>3</th>\n",
       "      <td>Abu Dhabi (AUH)</td>\n",
       "      <td>Agartala (IXA)</td>\n",
       "      <td>6E 1834/6E 321/6E 276</td>\n",
       "      <td>23:30</td>\n",
       "      <td>17:40</td>\n",
       "      <td>Connecting</td>\n",
       "      <td>BOM/CCU</td>\n",
       "      <td>Except TUE</td>\n",
       "      <td>15-Jun-19</td>\n",
       "      <td>20-Jul-19</td>\n",
       "      <td>AUH</td>\n",
       "      <td>Abu Dhabi</td>\n",
       "      <td>IXA</td>\n",
       "      <td>Agartala</td>\n",
       "    </tr>\n",
       "    <tr>\n",
       "      <th>4</th>\n",
       "      <td>Abu Dhabi (AUH)</td>\n",
       "      <td>Agartala (IXA)</td>\n",
       "      <td>6E 1834/6E 321/6E 798</td>\n",
       "      <td>23:30</td>\n",
       "      <td>14:50</td>\n",
       "      <td>Connecting</td>\n",
       "      <td>BOM/CCU</td>\n",
       "      <td>Except TUE</td>\n",
       "      <td>15-Jun-19</td>\n",
       "      <td>25-Oct-19</td>\n",
       "      <td>AUH</td>\n",
       "      <td>Abu Dhabi</td>\n",
       "      <td>IXA</td>\n",
       "      <td>Agartala</td>\n",
       "    </tr>\n",
       "  </tbody>\n",
       "</table>\n",
       "</div>"
      ],
      "text/plain": [
       "            Origin     Destination         6E FlightNumber Departure(LT)  \\\n",
       "0  Abu Dhabi (AUH)  Agartala (IXA)   6E 1834/6E 321/6E 892         23:30   \n",
       "1  Abu Dhabi (AUH)  Agartala (IXA)  6E 1834/6E 6749/6E 892         23:30   \n",
       "2  Abu Dhabi (AUH)  Agartala (IXA)   6E 1834/6E 321/6E 374         23:30   \n",
       "3  Abu Dhabi (AUH)  Agartala (IXA)   6E 1834/6E 321/6E 276         23:30   \n",
       "4  Abu Dhabi (AUH)  Agartala (IXA)   6E 1834/6E 321/6E 798         23:30   \n",
       "\n",
       "  Arrival(LT) Flight Type      Via Days Of Operation Effective From  \\\n",
       "0       15:45  Connecting  BOM/CCU             Daily      12-Jul-19   \n",
       "1       15:45  Connecting  BOM/CCU             Daily      12-Jul-19   \n",
       "2       18:50  Connecting  BOM/CCU        Except TUE      15-Jun-19   \n",
       "3       17:40  Connecting  BOM/CCU        Except TUE      15-Jun-19   \n",
       "4       14:50  Connecting  BOM/CCU        Except TUE      15-Jun-19   \n",
       "\n",
       "  Effective To Origin_Code Origin_Name Destination_Code Destination_Name  \n",
       "0    25-Oct-19         AUH   Abu Dhabi              IXA         Agartala  \n",
       "1    25-Oct-19         AUH   Abu Dhabi              IXA         Agartala  \n",
       "2    06-Aug-19         AUH   Abu Dhabi              IXA         Agartala  \n",
       "3    20-Jul-19         AUH   Abu Dhabi              IXA         Agartala  \n",
       "4    25-Oct-19         AUH   Abu Dhabi              IXA         Agartala  "
      ]
     },
     "execution_count": 22,
     "metadata": {},
     "output_type": "execute_result"
    }
   ],
   "source": [
    "schedule_indigo.head()"
   ]
  },
  {
   "cell_type": "code",
   "execution_count": 25,
   "metadata": {},
   "outputs": [],
   "source": [
    "schedule_indigo.rename(columns = {'Flight Type': 'Flight_Type'}, inplace =True)\n",
    "direct = schedule_indigo[schedule_indigo.Flight_Type == 'Direct']"
   ]
  },
  {
   "cell_type": "code",
   "execution_count": null,
   "metadata": {},
   "outputs": [],
   "source": []
  }
 ],
 "metadata": {
  "kernelspec": {
   "display_name": "Python 3",
   "language": "python",
   "name": "python3"
  },
  "language_info": {
   "codemirror_mode": {
    "name": "ipython",
    "version": 3
   },
   "file_extension": ".py",
   "mimetype": "text/x-python",
   "name": "python",
   "nbconvert_exporter": "python",
   "pygments_lexer": "ipython3",
   "version": "3.6.6"
  }
 },
 "nbformat": 4,
 "nbformat_minor": 2
}

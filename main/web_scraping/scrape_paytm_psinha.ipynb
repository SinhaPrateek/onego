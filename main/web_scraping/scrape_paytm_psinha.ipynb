{
 "cells": [
  {
   "cell_type": "code",
   "execution_count": 46,
   "metadata": {},
   "outputs": [],
   "source": [
    "from bs4 import BeautifulSoup\n",
    "import os\n",
    "import pandas as pd"
   ]
  },
  {
   "cell_type": "code",
   "execution_count": 47,
   "metadata": {},
   "outputs": [
    {
     "name": "stdout",
     "output_type": "stream",
     "text": [
      "<class 'bs4.BeautifulSoup'>\n"
     ]
    }
   ],
   "source": [
    "htmltxt = \"\"\"<p><div class=\"col-xs-9\"><div class=\"_2JLq\"><div><div class=\"_2VgV\"><div class=\"_3pEE\"><div class=\"fareStripIconNext\"></div><div class=\"_3W8y\"><img src=\"//drg5ie3bz46tr.cloudfront.net/travel/rtravel/assets/ef9525ee.svg\" role=\"presentation\"><div class=\"YdMy\"> Fare Calendar </div></div><div class=\"row center-xs _33GS\"><a href=\"/flights/flightSearch/BLR-Bengaluru/BOM-Mumbai/1/0/0/E/2019-04-13\" class=\"_1dSs _36fB\"><div class=\"_3MiP\">Apr 13</div><div class=\"_1Bpt\"><div class=\"_2Vr4\"><img src=\"//drg5ie3bz46tr.cloudfront.net/travel/rtravel/assets/c73cc5fb.svg\" role=\"presentation\"></div><!-- react-text: 2107 --> <!-- /react-text --><!-- react-text: 2108 -->12386<!-- /react-text --></div><div class=\"Ki6b\"></div></a><a href=\"/flights/flightSearch/BLR-Bengaluru/BOM-Mumbai/1/0/0/E/2019-04-14\" class=\"_1dSs\"><div class=\"_3MiP\">Apr 14</div><div class=\"_1Bpt\"><div class=\"_2Vr4\"><img src=\"//drg5ie3bz46tr.cloudfront.net/travel/rtravel/assets/c73cc5fb.svg\" role=\"presentation\"></div><!-- react-text: 2115 --> <!-- /react-text --><!-- react-text: 2116 -->9969<!-- /react-text --></div></a><a href=\"/flights/flightSearch/BLR-Bengaluru/BOM-Mumbai/1/0/0/E/2019-04-15\" class=\"_1dSs\"><div class=\"_3MiP\">Apr 15</div><div class=\"_1Bpt\"><div class=\"_2Vr4\"><img src=\"//drg5ie3bz46tr.cloudfront.net/travel/rtravel/assets/c73cc5fb.svg\" role=\"presentation\"></div><!-- react-text: 2122 --> <!-- /react-text --><!-- react-text: 2123 -->5958<!-- /react-text --></div></a><a href=\"/flights/flightSearch/BLR-Bengaluru/BOM-Mumbai/1/0/0/E/2019-04-16\" class=\"_1dSs\"><div class=\"_3MiP\">Apr 16</div><div class=\"_1Bpt\"><div class=\"_2Vr4\"><img src=\"//drg5ie3bz46tr.cloudfront.net/travel/rtravel/assets/c73cc5fb.svg\" role=\"presentation\"></div><!-- react-text: 2129 --> <!-- /react-text --><!-- react-text: 2130 -->6014<!-- /react-text --></div></a><a href=\"/flights/flightSearch/BLR-Bengaluru/BOM-Mumbai/1/0/0/E/2019-04-17\" class=\"_1dSs\"><div class=\"_3MiP\">Apr 17</div><div class=\"_1Bpt\"><div class=\"_2Vr4\"><img src=\"//drg5ie3bz46tr.cloudfront.net/travel/rtravel/assets/c73cc5fb.svg\" role=\"presentation\"></div><!-- react-text: 2136 --> <!-- /react-text --><!-- react-text: 2137 -->5652<!-- /react-text --></div></a><a href=\"/flights/flightSearch/BLR-Bengaluru/BOM-Mumbai/1/0/0/E/2019-04-18\" class=\"_1dSs\"><div class=\"_3MiP\">Apr 18</div><div class=\"_1Bpt\"><div class=\"_2Vr4\"><img src=\"//drg5ie3bz46tr.cloudfront.net/travel/rtravel/assets/c73cc5fb.svg\" role=\"presentation\"></div><!-- react-text: 2143 --> <!-- /react-text --><!-- react-text: 2144 -->6014<!-- /react-text --></div></a><a href=\"/flights/flightSearch/BLR-Bengaluru/BOM-Mumbai/1/0/0/E/2019-04-19\" class=\"_1dSs\"><div class=\"_3MiP\">Apr 19</div><div class=\"_1Bpt\"><div class=\"_2Vr4\"><img src=\"//drg5ie3bz46tr.cloudfront.net/travel/rtravel/assets/c73cc5fb.svg\" role=\"presentation\"></div><!-- react-text: 2150 --> <!-- /react-text --><!-- react-text: 2151 -->5198<!-- /react-text --></div></a><a href=\"/flights/flightSearch/BLR-Bengaluru/BOM-Mumbai/1/0/0/E/2019-04-20\" class=\"_1dSs\"><div class=\"_3MiP\">Apr 20</div><div class=\"_1Bpt\"><div class=\"_2Vr4\"><img src=\"//drg5ie3bz46tr.cloudfront.net/travel/rtravel/assets/c73cc5fb.svg\" role=\"presentation\"></div><!-- react-text: 2157 --> <!-- /react-text --><!-- react-text: 2158 -->3994<!-- /react-text --></div></a></div></div></div></div><div class=\"dfoq row\"><div class=\"hW8u\"></div><div class=\"_1VV1\"><div class=\"_1CzE\">Airline</div></div><div class=\"_2FoJ _3PxU\"><div class=\"_1CzE brXY\"><!-- react-text: 1368 -->Departure<!-- /react-text --></div></div><div class=\"_3vvc _3PxU\"><div class=\"_1CzE brXY\"><!-- react-text: 1371 -->Duration<!-- /react-text --></div></div><div class=\"_3iIP _3PxU\"><div class=\"_1CzE brXY\"><!-- react-text: 1374 -->Arrival<!-- /react-text --></div></div><div class=\"_2Qp3\"></div><div class=\"_3loY _3PxU\"><div class=\"_1CzE brXY _2Hpj\"><!-- react-text: 1378 -->Price<!-- /react-text --><span class=\"_1QTm\"></span></div></div><div class=\"_3loY _3PxU\"></div></div><div class=\"_3215 row\"><div class=\"_34is\"><div class=\"_1X-O\"><img src=\"https://s3-us-west-2.amazonaws.com/paytm-travel/travel_db/flights/airlines+logo/G8.png\" role=\"presentation\"></div></div><div class=\"_2XmS\"><div class=\"_3H-S\">GoAir</div><div class=\"NqXj\"><!-- react-text: 1388 -->G8<!-- /react-text --><!-- react-text: 1389 --> - <!-- /react-text --><!-- react-text: 1390 -->285<!-- /react-text --></div></div><div class=\"_3mu2\"></div><div class=\"_2dOJ _1OV0\"><div class=\"_3H-S\">15:45</div><div class=\"NqXj\">BLR</div></div><div class=\"_2WWS _1OV0\"><div class=\"vY4t\">4h 5m</div><div class=\"_26yH\"><img src=\"https://paytm.com/travel/images/flights/srp_arrow.svg\" role=\"presentation\"></div><div class=\"_7BOG\">1 Stop</div></div><div class=\"_1vNp _1OV0\"><div class=\"_3H-S\">19:50</div><div class=\"NqXj\">BOM</div></div><div class=\"_2b2y\"></div><div class=\"_36sV _1OV0\"><div class=\"_2gMo\"><div class=\"_1cxG\"><img src=\"//drg5ie3bz46tr.cloudfront.net/travel/rtravel/assets/c73cc5fb.svg\" role=\"presentation\"></div><!-- react-text: 1408 --> <!-- /react-text --><!-- react-text: 1409 -->12,386<!-- /react-text --></div><div class=\"NqXj\">Partially Refundable</div></div><div class=\"_36sV _1OV0\"><div><button class=\"button Ccmi\">Book</button></div><a class=\"_29K4\">Flight Details</a></div></div><div class=\"_3215 row\"><div class=\"_34is\"><div class=\"_1X-O\"><img src=\"https://s3-us-west-2.amazonaws.com/paytm-travel/travel_db/flights/airlines+logo/AI.png\" role=\"presentation\"></div></div><div class=\"_2XmS\"><div class=\"_3H-S\">Air India</div><div class=\"NqXj\"><!-- react-text: 1422 -->AI<!-- /react-text --><!-- react-text: 1423 --> - <!-- /react-text --><!-- react-text: 1424 -->993<!-- /react-text --></div></div><div class=\"_3mu2\"></div><div class=\"_2dOJ _1OV0\"><div class=\"_3H-S\">17:00</div><div class=\"NqXj\">BLR</div></div><div class=\"_2WWS _1OV0\"><div class=\"vY4t\">12h 25m</div><div class=\"_26yH\"><img src=\"https://paytm.com/travel/images/flights/srp_arrow.svg\" role=\"presentation\"></div><div class=\"_7BOG\">1 Stop</div></div><div class=\"_1vNp _1OV0\"><div class=\"_3H-S\">05:25</div><div class=\"NqXj\">BOM</div></div><div class=\"_2b2y\"></div><div class=\"_36sV _1OV0\"><div class=\"_2gMo\"><div class=\"_1cxG\"><img src=\"//drg5ie3bz46tr.cloudfront.net/travel/rtravel/assets/c73cc5fb.svg\" role=\"presentation\"></div><!-- react-text: 1442 --> <!-- /react-text --><!-- react-text: 1443 -->12,751<!-- /react-text --></div><div class=\"NqXj\">Partially Refundable</div></div><div class=\"_36sV _1OV0\"><div><button class=\"button Ccmi\">Book</button></div><a class=\"_29K4\">Flight Details</a></div></div><div class=\"_3215 row\"><div class=\"_34is\"><div class=\"_1X-O\"><img src=\"https://s3-us-west-2.amazonaws.com/paytm-travel/travel_db/flights/airlines+logo/AI.png\" role=\"presentation\"></div></div><div class=\"_2XmS\"><div class=\"_3H-S\">Air India</div><div class=\"NqXj\"><!-- react-text: 1456 -->AI<!-- /react-text --><!-- react-text: 1457 --> - <!-- /react-text --><!-- react-text: 1458 -->993<!-- /react-text --></div></div><div class=\"_3mu2\"></div><div class=\"_2dOJ _1OV0\"><div class=\"_3H-S\">17:00</div><div class=\"NqXj\">BLR</div></div><div class=\"_2WWS _1OV0\"><div class=\"vY4t\">15h 15m</div><div class=\"_26yH\"><img src=\"https://paytm.com/travel/images/flights/srp_arrow.svg\" role=\"presentation\"></div><div class=\"_7BOG\">1 Stop</div></div><div class=\"_1vNp _1OV0\"><div class=\"_3H-S\">08:15</div><div class=\"NqXj\">BOM</div></div><div class=\"_2b2y\"></div><div class=\"_36sV _1OV0\"><div class=\"_2gMo\"><div class=\"_1cxG\"><img src=\"//drg5ie3bz46tr.cloudfront.net/travel/rtravel/assets/c73cc5fb.svg\" role=\"presentation\"></div><!-- react-text: 1476 --> <!-- /react-text --><!-- react-text: 1477 -->13,329<!-- /react-text --></div><div class=\"NqXj\">Partially Refundable</div></div><div class=\"_36sV _1OV0\"><div><button class=\"button Ccmi\">Book</button></div><a class=\"_29K4\">Flight Details</a></div></div><div class=\"_3215 row\"><div class=\"_34is\"><div class=\"_1X-O\"><img src=\"https://s3-us-west-2.amazonaws.com/paytm-travel/travel_db/flights/airlines+logo/I5.png\" role=\"presentation\"></div></div><div class=\"_2XmS\"><div class=\"_3H-S\">Air Asia</div><div class=\"NqXj\"><!-- react-text: 1490 -->I5<!-- /react-text --><!-- react-text: 1491 --> - <!-- /react-text --><!-- react-text: 1492 -->306<!-- /react-text --></div></div><div class=\"_3mu2\"></div><div class=\"_2dOJ _1OV0\"><div class=\"_3H-S\">22:35</div><div class=\"NqXj\">BLR</div></div><div class=\"_2WWS _1OV0\"><div class=\"vY4t\">1h 55m</div><div class=\"_26yH\"><img src=\"https://paytm.com/travel/images/flights/srp_arrow.svg\" role=\"presentation\"></div><div class=\"_7BOG\">Non Stop</div></div><div class=\"_1vNp _1OV0\"><div class=\"_3H-S\">00:30</div><div class=\"NqXj\">BOM</div></div><div class=\"_2b2y\"></div><div class=\"_36sV _1OV0\"><div class=\"_2gMo\"><div class=\"_1cxG\"><img src=\"//drg5ie3bz46tr.cloudfront.net/travel/rtravel/assets/c73cc5fb.svg\" role=\"presentation\"></div><!-- react-text: 1510 --> <!-- /react-text --><!-- react-text: 1511 -->13,933<!-- /react-text --></div><div class=\"NqXj\">Partially Refundable</div></div><div class=\"_36sV _1OV0\"><div><button class=\"button Ccmi\">Book</button></div><a class=\"_29K4\">Flight Details</a></div></div><div class=\"_3215 row\"><div class=\"_34is\"><div class=\"_1X-O\"><img src=\"https://s3-us-west-2.amazonaws.com/paytm-travel/travel_db/flights/airlines+logo/6E.png\" role=\"presentation\"></div></div><div class=\"_2XmS\"><div class=\"_3H-S\">IndiGo</div><div class=\"NqXj\"><!-- react-text: 1524 -->6E<!-- /react-text --><!-- react-text: 1525 --> - <!-- /react-text --><!-- react-text: 1526 -->6794<!-- /react-text --></div></div><div class=\"_3mu2\"></div><div class=\"_2dOJ _1OV0\"><div class=\"_3H-S\">21:35</div><div class=\"NqXj\">BLR</div></div><div class=\"_2WWS _1OV0\"><div class=\"vY4t\">1h 55m</div><div class=\"_26yH\"><img src=\"https://paytm.com/travel/images/flights/srp_arrow.svg\" role=\"presentation\"></div><div class=\"_7BOG\">Non Stop</div></div><div class=\"_1vNp _1OV0\"><div class=\"_3H-S\">23:30</div><div class=\"NqXj\">BOM</div></div><div class=\"_2b2y\"></div><div class=\"_36sV _1OV0\"><div class=\"_2gMo\"><div class=\"_1cxG\"><img src=\"//drg5ie3bz46tr.cloudfront.net/travel/rtravel/assets/c73cc5fb.svg\" role=\"presentation\"></div><!-- react-text: 1544 --> <!-- /react-text --><!-- react-text: 1545 -->14,000<!-- /react-text --></div><div class=\"NqXj\">Partially Refundable</div></div><div class=\"_36sV _1OV0\"><div><button class=\"button Ccmi\">Book</button></div><a class=\"_29K4\">Flight Details</a></div></div><div class=\"_3215 row\"><div class=\"_34is\"><div class=\"_1X-O\"><img src=\"https://s3-us-west-2.amazonaws.com/paytm-travel/travel_db/flights/airlines+logo/6E.png\" role=\"presentation\"></div></div><div class=\"_2XmS\"><div class=\"_3H-S\">IndiGo</div><div class=\"NqXj\"><!-- react-text: 1558 -->6E<!-- /react-text --><!-- react-text: 1559 --> - <!-- /react-text --><!-- react-text: 1560 -->412<!-- /react-text --></div></div><div class=\"_3mu2\"></div><div class=\"_2dOJ _1OV0\"><div class=\"_3H-S\">22:55</div><div class=\"NqXj\">BLR</div></div><div class=\"_2WWS _1OV0\"><div class=\"vY4t\">6h 35m</div><div class=\"_26yH\"><img src=\"https://paytm.com/travel/images/flights/srp_arrow.svg\" role=\"presentation\"></div><div class=\"_7BOG\">1 Stop</div></div><div class=\"_1vNp _1OV0\"><div class=\"_3H-S\">05:30</div><div class=\"NqXj\">BOM</div></div><div class=\"_2b2y\"></div><div class=\"_36sV _1OV0\"><div class=\"_2gMo\"><div class=\"_1cxG\"><img src=\"//drg5ie3bz46tr.cloudfront.net/travel/rtravel/assets/c73cc5fb.svg\" role=\"presentation\"></div><!-- react-text: 1578 --> <!-- /react-text --><!-- react-text: 1579 -->14,005<!-- /react-text --></div><div class=\"NqXj\">Partially Refundable</div></div><div class=\"_36sV _1OV0\"><div><button class=\"button Ccmi\">Book</button></div><a class=\"_29K4\">Flight Details</a></div></div><div class=\"_3215 row\"><div class=\"_34is\"><div class=\"_1X-O\"><img src=\"https://s3-us-west-2.amazonaws.com/paytm-travel/travel_db/flights/airlines+logo/G8.png\" role=\"presentation\"></div></div><div class=\"_2XmS\"><div class=\"_3H-S\">GoAir</div><div class=\"NqXj\"><!-- react-text: 1592 -->G8<!-- /react-text --><!-- react-text: 1593 --> - <!-- /react-text --><!-- react-text: 1594 -->526<!-- /react-text --></div></div><div class=\"_3mu2\"></div><div class=\"_2dOJ _1OV0\"><div class=\"_3H-S\">22:15</div><div class=\"NqXj\">BLR</div></div><div class=\"_2WWS _1OV0\"><div class=\"vY4t\">1h 50m</div><div class=\"_26yH\"><img src=\"https://paytm.com/travel/images/flights/srp_arrow.svg\" role=\"presentation\"></div><div class=\"_7BOG\">Non Stop</div></div><div class=\"_1vNp _1OV0\"><div class=\"_3H-S\">00:05</div><div class=\"NqXj\">BOM</div></div><div class=\"_2b2y\"></div><div class=\"_36sV _1OV0\"><div class=\"_2gMo\"><div class=\"_1cxG\"><img src=\"//drg5ie3bz46tr.cloudfront.net/travel/rtravel/assets/c73cc5fb.svg\" role=\"presentation\"></div><!-- react-text: 1612 --> <!-- /react-text --><!-- react-text: 1613 -->15,000<!-- /react-text --></div><div class=\"NqXj\">Partially Refundable</div></div><div class=\"_36sV _1OV0\"><div><button class=\"button Ccmi\">Book</button></div><a class=\"_29K4\">Flight Details</a></div></div><div class=\"_3215 row\"><div class=\"_34is\"><div class=\"_1X-O\"><img src=\"https://s3-us-west-2.amazonaws.com/paytm-travel/travel_db/flights/airlines+logo/6E.png\" role=\"presentation\"></div></div><div class=\"_2XmS\"><div class=\"_3H-S\">IndiGo</div><div class=\"NqXj\"><!-- react-text: 1626 -->6E<!-- /react-text --><!-- react-text: 1627 --> - <!-- /react-text --><!-- react-text: 1628 -->566<!-- /react-text --></div></div><div class=\"_3mu2\"></div><div class=\"_2dOJ _1OV0\"><div class=\"_3H-S\">19:35</div><div class=\"NqXj\">BLR</div></div><div class=\"_2WWS _1OV0\"><div class=\"vY4t\">2h 0m</div><div class=\"_26yH\"><img src=\"https://paytm.com/travel/images/flights/srp_arrow.svg\" role=\"presentation\"></div><div class=\"_7BOG\">Non Stop</div></div><div class=\"_1vNp _1OV0\"><div class=\"_3H-S\">21:35</div><div class=\"NqXj\">BOM</div></div><div class=\"_2b2y\"></div><div class=\"_36sV _1OV0\"><div class=\"_2gMo\"><div class=\"_1cxG\"><img src=\"//drg5ie3bz46tr.cloudfront.net/travel/rtravel/assets/c73cc5fb.svg\" role=\"presentation\"></div><!-- react-text: 1646 --> <!-- /react-text --><!-- react-text: 1647 -->15,046<!-- /react-text --></div><div class=\"NqXj\">Partially Refundable</div></div><div class=\"_36sV _1OV0\"><div><button class=\"button Ccmi\">Book</button></div><a class=\"_29K4\">Flight Details</a></div></div><div class=\"_3215 row\"><div class=\"_34is\"><div class=\"_1X-O\"><img src=\"https://s3-us-west-2.amazonaws.com/paytm-travel/travel_db/flights/airlines+logo/6E.png\" role=\"presentation\"></div></div><div class=\"_2XmS\"><div class=\"_3H-S\">IndiGo</div><div class=\"NqXj\"><!-- react-text: 1660 -->6E<!-- /react-text --><!-- react-text: 1661 --> - <!-- /react-text --><!-- react-text: 1662 -->361<!-- /react-text --></div></div><div class=\"_3mu2\"></div><div class=\"_2dOJ _1OV0\"><div class=\"_3H-S\">15:30</div><div class=\"NqXj\">BLR</div></div><div class=\"_2WWS _1OV0\"><div class=\"vY4t\">1h 50m</div><div class=\"_26yH\"><img src=\"https://paytm.com/travel/images/flights/srp_arrow.svg\" role=\"presentation\"></div><div class=\"_7BOG\">Non Stop</div></div><div class=\"_1vNp _1OV0\"><div class=\"_3H-S\">17:20</div><div class=\"NqXj\">BOM</div></div><div class=\"_2b2y\"></div><div class=\"_36sV _1OV0\"><div class=\"_2gMo\"><div class=\"_1cxG\"><img src=\"//drg5ie3bz46tr.cloudfront.net/travel/rtravel/assets/c73cc5fb.svg\" role=\"presentation\"></div><!-- react-text: 1680 --> <!-- /react-text --><!-- react-text: 1681 -->15,046<!-- /react-text --></div><div class=\"NqXj\">Partially Refundable</div></div><div class=\"_36sV _1OV0\"><div><button class=\"button Ccmi\">Book</button></div><a class=\"_29K4\">Flight Details</a></div></div><div class=\"_3215 row\"><div class=\"_34is\"><div class=\"_1X-O\"><img src=\"https://s3-us-west-2.amazonaws.com/paytm-travel/travel_db/flights/airlines+logo/6E.png\" role=\"presentation\"></div></div><div class=\"_2XmS\"><div class=\"_3H-S\">IndiGo</div><div class=\"NqXj\"><!-- react-text: 1694 -->6E<!-- /react-text --><!-- react-text: 1695 --> - <!-- /react-text --><!-- react-text: 1696 -->849<!-- /react-text --></div></div><div class=\"_3mu2\"></div><div class=\"_2dOJ _1OV0\"><div class=\"_3H-S\">23:00</div><div class=\"NqXj\">BLR</div></div><div class=\"_2WWS _1OV0\"><div class=\"vY4t\">1h 50m</div><div class=\"_26yH\"><img src=\"https://paytm.com/travel/images/flights/srp_arrow.svg\" role=\"presentation\"></div><div class=\"_7BOG\">Non Stop</div></div><div class=\"_1vNp _1OV0\"><div class=\"_3H-S\">00:50</div><div class=\"NqXj\">BOM</div></div><div class=\"_2b2y\"></div><div class=\"_36sV _1OV0\"><div class=\"_2gMo\"><div class=\"_1cxG\"><img src=\"//drg5ie3bz46tr.cloudfront.net/travel/rtravel/assets/c73cc5fb.svg\" role=\"presentation\"></div><!-- react-text: 1714 --> <!-- /react-text --><!-- react-text: 1715 -->15,046<!-- /react-text --></div><div class=\"NqXj\">Partially Refundable</div></div><div class=\"_36sV _1OV0\"><div><button class=\"button Ccmi\">Book</button></div><a class=\"_29K4\">Flight Details</a></div></div><div class=\"_3215 row\"><div class=\"_34is\"><div class=\"_1X-O\"><img src=\"https://s3-us-west-2.amazonaws.com/paytm-travel/travel_db/flights/airlines+logo/AI.png\" role=\"presentation\"></div></div><div class=\"_2XmS\"><div class=\"_3H-S\">Air India</div><div class=\"NqXj\"><!-- react-text: 1728 -->AI<!-- /react-text --><!-- react-text: 1729 --> - <!-- /react-text --><!-- react-text: 1730 -->587<!-- /react-text --></div></div><div class=\"_3mu2\"></div><div class=\"_2dOJ _1OV0\"><div class=\"_3H-S\">22:00</div><div class=\"NqXj\">BLR</div></div><div class=\"_2WWS _1OV0\"><div class=\"vY4t\">24h 20m</div><div class=\"_26yH\"><img src=\"https://paytm.com/travel/images/flights/srp_arrow.svg\" role=\"presentation\"></div><div class=\"_7BOG\">1 Stop</div></div><div class=\"_1vNp _1OV0\"><div class=\"_3H-S\">22:20</div><div class=\"NqXj\">BOM</div></div><div class=\"_2b2y\"></div><div class=\"_36sV _1OV0\"><div class=\"_2gMo\"><div class=\"_1cxG\"><img src=\"//drg5ie3bz46tr.cloudfront.net/travel/rtravel/assets/c73cc5fb.svg\" role=\"presentation\"></div><!-- react-text: 1748 --> <!-- /react-text --><!-- react-text: 1749 -->15,665<!-- /react-text --></div><div class=\"NqXj\">Partially Refundable</div></div><div class=\"_36sV _1OV0\"><div><button class=\"button Ccmi\">Book</button></div><a class=\"_29K4\">Flight Details</a></div></div><div class=\"_3215 row\"><div class=\"_34is\"><div class=\"_1X-O\"><img src=\"https://s3-us-west-2.amazonaws.com/paytm-travel/travel_db/flights/airlines+logo/SG.png\" role=\"presentation\"></div></div><div class=\"_2XmS\"><div class=\"_3H-S\">SpiceJet</div><div class=\"NqXj\"><!-- react-text: 1762 -->SG<!-- /react-text --><!-- react-text: 1763 --> - <!-- /react-text --><!-- react-text: 1764 -->456<!-- /react-text --></div></div><div class=\"_3mu2\"></div><div class=\"_2dOJ _1OV0\"><div class=\"_3H-S\">20:10</div><div class=\"NqXj\">BLR</div></div><div class=\"_2WWS _1OV0\"><div class=\"vY4t\">1h 55m</div><div class=\"_26yH\"><img src=\"https://paytm.com/travel/images/flights/srp_arrow.svg\" role=\"presentation\"></div><div class=\"_7BOG\">Non Stop</div></div><div class=\"_1vNp _1OV0\"><div class=\"_3H-S\">22:05</div><div class=\"NqXj\">BOM</div></div><div class=\"_2b2y\"></div><div class=\"_36sV _1OV0\"><div class=\"_2gMo\"><div class=\"_1cxG\"><img src=\"//drg5ie3bz46tr.cloudfront.net/travel/rtravel/assets/c73cc5fb.svg\" role=\"presentation\"></div><!-- react-text: 1782 --> <!-- /react-text --><!-- react-text: 1783 -->16,796<!-- /react-text --></div><div class=\"NqXj\">Partially Refundable</div></div><div class=\"_36sV _1OV0\"><div><button class=\"button Ccmi\">Book</button></div><a class=\"_29K4\">Flight Details</a></div></div><div class=\"_3215 row\"><div class=\"_34is\"><div class=\"_1X-O\"><img src=\"https://s3-us-west-2.amazonaws.com/paytm-travel/travel_db/flights/airlines+logo/AI.png\" role=\"presentation\"></div></div><div class=\"_2XmS\"><div class=\"_3H-S\">Air India</div><div class=\"NqXj\"><!-- react-text: 1796 -->AI<!-- /react-text --><!-- react-text: 1797 --> - <!-- /react-text --><!-- react-text: 1798 -->587<!-- /react-text --></div></div><div class=\"_3mu2\"></div><div class=\"_2dOJ _1OV0\"><div class=\"_3H-S\">22:00</div><div class=\"NqXj\">BLR</div></div><div class=\"_2WWS _1OV0\"><div class=\"vY4t\">12h 15m</div><div class=\"_26yH\"><img src=\"https://paytm.com/travel/images/flights/srp_arrow.svg\" role=\"presentation\"></div><div class=\"_7BOG\">1 Stop</div></div><div class=\"_1vNp _1OV0\"><div class=\"_3H-S\">10:15</div><div class=\"NqXj\">BOM</div></div><div class=\"_2b2y\"></div><div class=\"_36sV _1OV0\"><div class=\"_2gMo\"><div class=\"_1cxG\"><img src=\"//drg5ie3bz46tr.cloudfront.net/travel/rtravel/assets/c73cc5fb.svg\" role=\"presentation\"></div><!-- react-text: 1816 --> <!-- /react-text --><!-- react-text: 1817 -->17,030<!-- /react-text --></div><div class=\"NqXj\">Partially Refundable</div></div><div class=\"_36sV _1OV0\"><div><button class=\"button Ccmi\">Book</button></div><a class=\"_29K4\">Flight Details</a></div></div><div class=\"_3215 row\"><div class=\"_34is\"><div class=\"_1X-O\"><img src=\"https://s3-us-west-2.amazonaws.com/paytm-travel/travel_db/flights/airlines+logo/6E.png\" role=\"presentation\"></div></div><div class=\"_2XmS\"><div class=\"_3H-S\">IndiGo</div><div class=\"NqXj\"><!-- react-text: 1830 -->6E<!-- /react-text --><!-- react-text: 1831 --> - <!-- /react-text --><!-- react-text: 1832 -->805<!-- /react-text --></div></div><div class=\"_3mu2\"></div><div class=\"_2dOJ _1OV0\"><div class=\"_3H-S\">17:55</div><div class=\"NqXj\">BLR</div></div><div class=\"_2WWS _1OV0\"><div class=\"vY4t\">6h 25m</div><div class=\"_26yH\"><img src=\"https://paytm.com/travel/images/flights/srp_arrow.svg\" role=\"presentation\"></div><div class=\"_7BOG\">1 Stop</div></div><div class=\"_1vNp _1OV0\"><div class=\"_3H-S\">00:20</div><div class=\"NqXj\">BOM</div></div><div class=\"_2b2y\"></div><div class=\"_36sV _1OV0\"><div class=\"_2gMo\"><div class=\"_1cxG\"><img src=\"//drg5ie3bz46tr.cloudfront.net/travel/rtravel/assets/c73cc5fb.svg\" role=\"presentation\"></div><!-- react-text: 1850 --> <!-- /react-text --><!-- react-text: 1851 -->17,145<!-- /react-text --></div><div class=\"NqXj\">Partially Refundable</div></div><div class=\"_36sV _1OV0\"><div><button class=\"button Ccmi\">Book</button></div><a class=\"_29K4\">Flight Details</a></div></div><div class=\"_3215 row\"><div class=\"_34is\"><div class=\"_1X-O\"><img src=\"https://s3-us-west-2.amazonaws.com/paytm-travel/travel_db/flights/airlines+logo/G8.png\" role=\"presentation\"></div></div><div class=\"_2XmS\"><div class=\"_3H-S\">GoAir</div><div class=\"NqXj\"><!-- react-text: 1864 -->G8<!-- /react-text --><!-- react-text: 1865 --> - <!-- /react-text --><!-- react-text: 1866 -->320<!-- /react-text --></div></div><div class=\"_3mu2\"></div><div class=\"_2dOJ _1OV0\"><div class=\"_3H-S\">16:30</div><div class=\"NqXj\">BLR</div></div><div class=\"_2WWS _1OV0\"><div class=\"vY4t\">1h 50m</div><div class=\"_26yH\"><img src=\"https://paytm.com/travel/images/flights/srp_arrow.svg\" role=\"presentation\"></div><div class=\"_7BOG\">Non Stop</div></div><div class=\"_1vNp _1OV0\"><div class=\"_3H-S\">18:20</div><div class=\"NqXj\">BOM</div></div><div class=\"_2b2y\"></div><div class=\"_36sV _1OV0\"><div class=\"_2gMo\"><div class=\"_1cxG\"><img src=\"//drg5ie3bz46tr.cloudfront.net/travel/rtravel/assets/c73cc5fb.svg\" role=\"presentation\"></div><!-- react-text: 1884 --> <!-- /react-text --><!-- react-text: 1885 -->18,064<!-- /react-text --></div><div class=\"NqXj\">Partially Refundable</div></div><div class=\"_36sV _1OV0\"><div><button class=\"button Ccmi\">Book</button></div><a class=\"_29K4\">Flight Details</a></div></div><div class=\"_3215 row\"><div class=\"_34is\"><div class=\"_1X-O\"><img src=\"https://s3-us-west-2.amazonaws.com/paytm-travel/travel_db/flights/airlines+logo/6E.png\" role=\"presentation\"></div></div><div class=\"_2XmS\"><div class=\"_3H-S\">IndiGo</div><div class=\"NqXj\"><!-- react-text: 1898 -->6E<!-- /react-text --><!-- react-text: 1899 --> - <!-- /react-text --><!-- react-text: 1900 -->729<!-- /react-text --></div></div><div class=\"_3mu2\"></div><div class=\"_2dOJ _1OV0\"><div class=\"_3H-S\">19:20</div><div class=\"NqXj\">BLR</div></div><div class=\"_2WWS _1OV0\"><div class=\"vY4t\">5h 0m</div><div class=\"_26yH\"><img src=\"https://paytm.com/travel/images/flights/srp_arrow.svg\" role=\"presentation\"></div><div class=\"_7BOG\">1 Stop</div></div><div class=\"_1vNp _1OV0\"><div class=\"_3H-S\">00:20</div><div class=\"NqXj\">BOM</div></div><div class=\"_2b2y\"></div><div class=\"_36sV _1OV0\"><div class=\"_2gMo\"><div class=\"_1cxG\"><img src=\"//drg5ie3bz46tr.cloudfront.net/travel/rtravel/assets/c73cc5fb.svg\" role=\"presentation\"></div><!-- react-text: 1918 --> <!-- /react-text --><!-- react-text: 1919 -->18,201<!-- /react-text --></div><div class=\"NqXj\">Partially Refundable</div></div><div class=\"_36sV _1OV0\"><div><button class=\"button Ccmi\">Book</button></div><a class=\"_29K4\">Flight Details</a></div></div><div class=\"_3215 row\"><div class=\"_34is\"><div class=\"_1X-O\"><img src=\"https://s3-us-west-2.amazonaws.com/paytm-travel/travel_db/flights/airlines+logo/6E.png\" role=\"presentation\"></div></div><div class=\"_2XmS\"><div class=\"_3H-S\">IndiGo</div><div class=\"NqXj\"><!-- react-text: 1932 -->6E<!-- /react-text --><!-- react-text: 1933 --> - <!-- /react-text --><!-- react-text: 1934 -->149<!-- /react-text --></div></div><div class=\"_3mu2\"></div><div class=\"_2dOJ _1OV0\"><div class=\"_3H-S\">20:40</div><div class=\"NqXj\">BLR</div></div><div class=\"_2WWS _1OV0\"><div class=\"vY4t\">5h 15m</div><div class=\"_26yH\"><img src=\"https://paytm.com/travel/images/flights/srp_arrow.svg\" role=\"presentation\"></div><div class=\"_7BOG\">1 Stop</div></div><div class=\"_1vNp _1OV0\"><div class=\"_3H-S\">01:55</div><div class=\"NqXj\">BOM</div></div><div class=\"_2b2y\"></div><div class=\"_36sV _1OV0\"><div class=\"_2gMo\"><div class=\"_1cxG\"><img src=\"//drg5ie3bz46tr.cloudfront.net/travel/rtravel/assets/c73cc5fb.svg\" role=\"presentation\"></div><!-- react-text: 1952 --> <!-- /react-text --><!-- react-text: 1953 -->19,722<!-- /react-text --></div><div class=\"NqXj\">Partially Refundable</div></div><div class=\"_36sV _1OV0\"><div><button class=\"button Ccmi\">Book</button></div><a class=\"_29K4\">Flight Details</a></div></div><div class=\"_3215 row\"><div class=\"_34is\"><div class=\"_1X-O\"><img src=\"https://s3-us-west-2.amazonaws.com/paytm-travel/travel_db/flights/airlines+logo/AI.png\" role=\"presentation\"></div></div><div class=\"_2XmS\"><div class=\"_3H-S\">Air India</div><div class=\"NqXj\"><!-- react-text: 1966 -->AI<!-- /react-text --><!-- react-text: 1967 --> - <!-- /react-text --><!-- react-text: 1968 -->993<!-- /react-text --></div></div><div class=\"_3mu2\"></div><div class=\"_2dOJ _1OV0\"><div class=\"_3H-S\">17:00</div><div class=\"NqXj\">BLR</div></div><div class=\"_2WWS _1OV0\"><div class=\"vY4t\">23h 35m</div><div class=\"_26yH\"><img src=\"https://paytm.com/travel/images/flights/srp_arrow.svg\" role=\"presentation\"></div><div class=\"_7BOG\">1 Stop</div></div><div class=\"_1vNp _1OV0\"><div class=\"_3H-S\">16:35</div><div class=\"NqXj\">BOM</div></div><div class=\"_2b2y\"></div><div class=\"_36sV _1OV0\"><div class=\"_2gMo\"><div class=\"_1cxG\"><img src=\"//drg5ie3bz46tr.cloudfront.net/travel/rtravel/assets/c73cc5fb.svg\" role=\"presentation\"></div><!-- react-text: 1986 --> <!-- /react-text --><!-- react-text: 1987 -->21,256<!-- /react-text --></div><div class=\"NqXj\">Partially Refundable</div></div><div class=\"_36sV _1OV0\"><div><button class=\"button Ccmi\">Book</button></div><a class=\"_29K4\">Flight Details</a></div></div><div class=\"_3215 row\"><div class=\"_34is\"><div class=\"_1X-O\"><img src=\"https://s3-us-west-2.amazonaws.com/paytm-travel/travel_db/flights/airlines+logo/6E.png\" role=\"presentation\"></div></div><div class=\"_2XmS\"><div class=\"_3H-S\">IndiGo</div><div class=\"NqXj\"><!-- react-text: 2000 -->6E<!-- /react-text --><!-- react-text: 2001 --> - <!-- /react-text --><!-- react-text: 2002 -->466<!-- /react-text --></div></div><div class=\"_3mu2\"></div><div class=\"_2dOJ _1OV0\"><div class=\"_3H-S\">16:00</div><div class=\"NqXj\">BLR</div></div><div class=\"_2WWS _1OV0\"><div class=\"vY4t\">5h 30m</div><div class=\"_26yH\"><img src=\"https://paytm.com/travel/images/flights/srp_arrow.svg\" role=\"presentation\"></div><div class=\"_7BOG\">2 Stops</div></div><div class=\"_1vNp _1OV0\"><div class=\"_3H-S\">21:30</div><div class=\"NqXj\">BOM</div></div><div class=\"_2b2y\"></div><div class=\"_36sV _1OV0\"><div class=\"_2gMo\"><div class=\"_1cxG\"><img src=\"//drg5ie3bz46tr.cloudfront.net/travel/rtravel/assets/c73cc5fb.svg\" role=\"presentation\"></div><!-- react-text: 2020 --> <!-- /react-text --><!-- react-text: 2021 -->21,307<!-- /react-text --></div><div class=\"NqXj\">Partially Refundable</div></div><div class=\"_36sV _1OV0\"><div><button class=\"button Ccmi\">Book</button></div><a class=\"_29K4\">Flight Details</a></div></div><div class=\"_3215 row\"><div class=\"_34is\"><div class=\"_1X-O\"><img src=\"https://s3-us-west-2.amazonaws.com/paytm-travel/travel_db/flights/airlines+logo/6E.png\" role=\"presentation\"></div></div><div class=\"_2XmS\"><div class=\"_3H-S\">IndiGo</div><div class=\"NqXj\"><!-- react-text: 2034 -->6E<!-- /react-text --><!-- react-text: 2035 --> - <!-- /react-text --><!-- react-text: 2036 -->237<!-- /react-text --></div></div><div class=\"_3mu2\"></div><div class=\"_2dOJ _1OV0\"><div class=\"_3H-S\">14:40</div><div class=\"NqXj\">BLR</div></div><div class=\"_2WWS _1OV0\"><div class=\"vY4t\">4h 35m</div><div class=\"_26yH\"><img src=\"https://paytm.com/travel/images/flights/srp_arrow.svg\" role=\"presentation\"></div><div class=\"_7BOG\">1 Stop</div></div><div class=\"_1vNp _1OV0\"><div class=\"_3H-S\">19:15</div><div class=\"NqXj\">BOM</div></div><div class=\"_2b2y\"></div><div class=\"_36sV _1OV0\"><div class=\"_2gMo\"><div class=\"_1cxG\"><img src=\"//drg5ie3bz46tr.cloudfront.net/travel/rtravel/assets/c73cc5fb.svg\" role=\"presentation\"></div><!-- react-text: 2054 --> <!-- /react-text --><!-- react-text: 2055 -->23,445<!-- /react-text --></div><div class=\"NqXj\">Partially Refundable</div></div><div class=\"_36sV _1OV0\"><div><button class=\"button Ccmi\">Book</button></div><a class=\"_29K4\">Flight Details</a></div></div><div class=\"_3215 row\"><div class=\"_34is\"><div class=\"_1X-O\"><img src=\"https://s3-us-west-2.amazonaws.com/paytm-travel/travel_db/flights/airlines+logo/SG.png\" role=\"presentation\"></div></div><div class=\"_2XmS\"><div class=\"_3H-S\">SpiceJet</div><div class=\"NqXj\"><!-- react-text: 2068 -->SG<!-- /react-text --><!-- react-text: 2069 --> - <!-- /react-text --><!-- react-text: 2070 -->635<!-- /react-text --></div></div><div class=\"_3mu2\"></div><div class=\"_2dOJ _1OV0\"><div class=\"_3H-S\">15:20</div><div class=\"NqXj\">BLR</div></div><div class=\"_2WWS _1OV0\"><div class=\"vY4t\">1h 30m</div><div class=\"_26yH\"><img src=\"https://paytm.com/travel/images/flights/srp_arrow.svg\" role=\"presentation\"></div><div class=\"_7BOG\">Non Stop</div></div><div class=\"_1vNp _1OV0\"><div class=\"_3H-S\">16:50</div><div class=\"NqXj\">BOM</div></div><div class=\"_2b2y\"></div><div class=\"_36sV _1OV0\"><div class=\"_2gMo\"><div class=\"_1cxG\"><img src=\"//drg5ie3bz46tr.cloudfront.net/travel/rtravel/assets/c73cc5fb.svg\" role=\"presentation\"></div><!-- react-text: 2088 --> <!-- /react-text --><!-- react-text: 2089 -->24,396<!-- /react-text --></div><div class=\"NqXj\">Partially Refundable</div></div><div class=\"_36sV _1OV0\"><div><button class=\"button Ccmi\">Book</button></div><a class=\"_29K4\">Flight Details</a></div></div></div></div><p>\"\"\"\n",
    "soup = BeautifulSoup(htmltxt, 'lxml')\n",
    "print(type(soup))\n",
    "#print(soup.text)"
   ]
  },
  {
   "cell_type": "code",
   "execution_count": 48,
   "metadata": {},
   "outputs": [],
   "source": [
    "# import requests\n",
    "# from bs4 import BeautifulSoup\n",
    "# url = 'https://paytm.com/flights/flightSearch/BLR-Bengaluru/BOM-Mumbai/1/0/0/E/2019-04-30'\n",
    "# resp = requests.get(url)\n",
    "# soup = BeautifulSoup(resp.text, 'lxml')"
   ]
  },
  {
   "cell_type": "code",
   "execution_count": 51,
   "metadata": {},
   "outputs": [
    {
     "data": {
      "text/plain": [
       "21"
      ]
     },
     "execution_count": 51,
     "metadata": {},
     "output_type": "execute_result"
    }
   ],
   "source": [
    "tags = soup.find_all('div',class_ =\"_3215 row\")\n",
    "len(tags)"
   ]
  },
  {
   "cell_type": "code",
   "execution_count": 52,
   "metadata": {},
   "outputs": [
    {
     "data": {
      "text/html": [
       "<div>\n",
       "<style scoped>\n",
       "    .dataframe tbody tr th:only-of-type {\n",
       "        vertical-align: middle;\n",
       "    }\n",
       "\n",
       "    .dataframe tbody tr th {\n",
       "        vertical-align: top;\n",
       "    }\n",
       "\n",
       "    .dataframe thead th {\n",
       "        text-align: right;\n",
       "    }\n",
       "</style>\n",
       "<table border=\"1\" class=\"dataframe\">\n",
       "  <thead>\n",
       "    <tr style=\"text-align: right;\">\n",
       "      <th></th>\n",
       "      <th>Dept_Date</th>\n",
       "      <th>Origin</th>\n",
       "      <th>Destination</th>\n",
       "      <th>Dept_Time</th>\n",
       "      <th>Arr_Time</th>\n",
       "      <th>Airways</th>\n",
       "      <th>Total_Fare</th>\n",
       "      <th>Duration</th>\n",
       "    </tr>\n",
       "  </thead>\n",
       "  <tbody>\n",
       "    <tr>\n",
       "      <th>0</th>\n",
       "      <td>2019-04-25</td>\n",
       "      <td>BLR</td>\n",
       "      <td>BOM</td>\n",
       "      <td>15:45</td>\n",
       "      <td>19:50</td>\n",
       "      <td>GoAir</td>\n",
       "      <td>12,386</td>\n",
       "      <td>4h 5m</td>\n",
       "    </tr>\n",
       "    <tr>\n",
       "      <th>1</th>\n",
       "      <td>2019-04-25</td>\n",
       "      <td>BLR</td>\n",
       "      <td>BOM</td>\n",
       "      <td>17:00</td>\n",
       "      <td>05:25</td>\n",
       "      <td>Air India</td>\n",
       "      <td>12,751</td>\n",
       "      <td>12h 25m</td>\n",
       "    </tr>\n",
       "    <tr>\n",
       "      <th>2</th>\n",
       "      <td>2019-04-25</td>\n",
       "      <td>BLR</td>\n",
       "      <td>BOM</td>\n",
       "      <td>17:00</td>\n",
       "      <td>08:15</td>\n",
       "      <td>Air India</td>\n",
       "      <td>13,329</td>\n",
       "      <td>15h 15m</td>\n",
       "    </tr>\n",
       "    <tr>\n",
       "      <th>3</th>\n",
       "      <td>2019-04-25</td>\n",
       "      <td>BLR</td>\n",
       "      <td>BOM</td>\n",
       "      <td>22:35</td>\n",
       "      <td>00:30</td>\n",
       "      <td>Air Asia</td>\n",
       "      <td>13,933</td>\n",
       "      <td>1h 55m</td>\n",
       "    </tr>\n",
       "    <tr>\n",
       "      <th>4</th>\n",
       "      <td>2019-04-25</td>\n",
       "      <td>BLR</td>\n",
       "      <td>BOM</td>\n",
       "      <td>21:35</td>\n",
       "      <td>23:30</td>\n",
       "      <td>IndiGo</td>\n",
       "      <td>14,000</td>\n",
       "      <td>1h 55m</td>\n",
       "    </tr>\n",
       "  </tbody>\n",
       "</table>\n",
       "</div>"
      ],
      "text/plain": [
       "    Dept_Date Origin Destination Dept_Time Arr_Time    Airways Total_Fare  \\\n",
       "0  2019-04-25    BLR         BOM     15:45    19:50      GoAir     12,386   \n",
       "1  2019-04-25    BLR         BOM     17:00    05:25  Air India     12,751   \n",
       "2  2019-04-25    BLR         BOM     17:00    08:15  Air India     13,329   \n",
       "3  2019-04-25    BLR         BOM     22:35    00:30   Air Asia     13,933   \n",
       "4  2019-04-25    BLR         BOM     21:35    23:30     IndiGo     14,000   \n",
       "\n",
       "  Duration  \n",
       "0    4h 5m  \n",
       "1  12h 25m  \n",
       "2  15h 15m  \n",
       "3   1h 55m  \n",
       "4   1h 55m  "
      ]
     },
     "execution_count": 52,
     "metadata": {},
     "output_type": "execute_result"
    }
   ],
   "source": [
    "# Origin\tDestination\tDept_Date\tDept_Time\tArr_Time\tTotal_Fare\tAirways\tAvailable\tDuration\tClass_Type\tFlight Number\tHopping\t  DataTaken\n",
    "Date = \"2019-04-25\"\n",
    "Origin = \"BLR\"\n",
    "Destination = \"BOM\"\n",
    "\n",
    "rows=[]\n",
    "for tag in tags:\n",
    "    Dept_Date = Date\n",
    "#     DateTaken =\n",
    "    OriginTag = tag.find('div',class_ = \"_2dOJ _1OV0\")\n",
    "#     Origin = OriginTag.find('div',class_ = \"NqXj\").text\n",
    "    Origin = Origin\n",
    "    Dept_Time = OriginTag.find('div',class_ = \"_3H-S\").text\n",
    "    \n",
    "    DestinationTag = tag.find('div',class_ = \"_1vNp _1OV0\")\n",
    "#     Destination = DestinationTag.find('div',class_ = \"NqXj\").text\n",
    "    Destination =Destination\n",
    "    Arr_Time = DestinationTag.find('div',class_ = \"_3H-S\").text\n",
    "    \n",
    "    Total_Fare = tag.find('div',class_ = \"_2gMo\").text\n",
    "    Airways = tag.find('div',class_ = \"_2XmS\").find('div',class_ = \"_3H-S\").text\n",
    "    Duration = tag.find('div',class_ = \"vY4t\").text\n",
    "    rows.append([Dept_Date,Origin,Destination,Dept_Time,Arr_Time,Airways,Total_Fare,Duration])\n",
    "    \n",
    "# print(rows)\n",
    "data = pd.DataFrame(rows,columns=['Dept_Date','Origin','Destination','Dept_Time','Arr_Time','Airways','Total_Fare','Duration'])\n",
    "data.head()  "
   ]
  },
  {
   "cell_type": "code",
   "execution_count": 53,
   "metadata": {},
   "outputs": [],
   "source": [
    "files_dir = 'C:\\\\Self_Work\\\\oneGo\\\\onego_poc1\\\\files'\n",
    "filename = 'paytm_flights.csv'\n",
    "data.to_csv(files_dir+'\\\\'+ filename,index=False)"
   ]
  },
  {
   "cell_type": "code",
   "execution_count": null,
   "metadata": {},
   "outputs": [],
   "source": []
  }
 ],
 "metadata": {
  "kernelspec": {
   "display_name": "Python 3",
   "language": "python",
   "name": "python3"
  },
  "language_info": {
   "codemirror_mode": {
    "name": "ipython",
    "version": 3
   },
   "file_extension": ".py",
   "mimetype": "text/x-python",
   "name": "python",
   "nbconvert_exporter": "python",
   "pygments_lexer": "ipython3",
   "version": "3.7.3"
  }
 },
 "nbformat": 4,
 "nbformat_minor": 2
}

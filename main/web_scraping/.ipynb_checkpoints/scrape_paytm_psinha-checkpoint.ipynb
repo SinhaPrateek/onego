{
 "cells": [
  {
   "cell_type": "code",
   "execution_count": 48,
   "metadata": {},
   "outputs": [],
   "source": [
    "from selenium import webdriver\n",
    "from selenium.webdriver.common.keys import Keys\n",
    "import pandas as pd\n",
    "import os\n",
    "from datetime import datetime\n",
    "rootDir = os.getcwd()"
   ]
  },
  {
   "cell_type": "code",
   "execution_count": 49,
   "metadata": {},
   "outputs": [
    {
     "data": {
      "text/plain": [
       "'C:\\\\Self_Work\\\\oneGo\\\\onego_poc1\\\\main\\\\web_scraping'"
      ]
     },
     "execution_count": 49,
     "metadata": {},
     "output_type": "execute_result"
    }
   ],
   "source": [
    "rootDir"
   ]
  },
  {
   "cell_type": "code",
   "execution_count": 50,
   "metadata": {},
   "outputs": [],
   "source": [
    "\n",
    "#launch url\n",
    "url = \"https://paytm.com/flights/flightSearch/BLR-Bengaluru/BOM-Mumbai/1/0/0/E/2019-05-30\"\n",
    "\n",
    "# create a new Chrome session\n",
    "driver = webdriver.Chrome('C:/Self_Work/oneGo/onego_poc1/files/chromedriver')          \n",
    "driver.implicitly_wait(30)\n",
    "driver.get(url)\n",
    "\n",
    "div_elem = driver.find_elements_by_css_selector('._3215.row')"
   ]
  },
  {
   "cell_type": "code",
   "execution_count": 52,
   "metadata": {},
   "outputs": [
    {
     "data": {
      "text/html": [
       "<div>\n",
       "<style scoped>\n",
       "    .dataframe tbody tr th:only-of-type {\n",
       "        vertical-align: middle;\n",
       "    }\n",
       "\n",
       "    .dataframe tbody tr th {\n",
       "        vertical-align: top;\n",
       "    }\n",
       "\n",
       "    .dataframe thead th {\n",
       "        text-align: right;\n",
       "    }\n",
       "</style>\n",
       "<table border=\"1\" class=\"dataframe\">\n",
       "  <thead>\n",
       "    <tr style=\"text-align: right;\">\n",
       "      <th></th>\n",
       "      <th>RecordDate</th>\n",
       "      <th>Airline</th>\n",
       "      <th>Flight</th>\n",
       "      <th>Dept_Date</th>\n",
       "      <th>Dept_Time</th>\n",
       "      <th>Origin</th>\n",
       "      <th>Duration</th>\n",
       "      <th>Stops</th>\n",
       "      <th>Arr_Date</th>\n",
       "      <th>Arr_Time</th>\n",
       "      <th>Destination</th>\n",
       "      <th>Total_Fare</th>\n",
       "    </tr>\n",
       "  </thead>\n",
       "  <tbody>\n",
       "    <tr>\n",
       "      <th>0</th>\n",
       "      <td>2019-05-11 22:48:24</td>\n",
       "      <td>IndiGo</td>\n",
       "      <td>6E - 456</td>\n",
       "      <td>2019-04-30</td>\n",
       "      <td>05:05</td>\n",
       "      <td>BLR</td>\n",
       "      <td>1h 45m</td>\n",
       "      <td>Non Stop</td>\n",
       "      <td>NA</td>\n",
       "      <td>06:50</td>\n",
       "      <td>BOM</td>\n",
       "      <td>3,346</td>\n",
       "    </tr>\n",
       "    <tr>\n",
       "      <th>1</th>\n",
       "      <td>2019-05-11 22:48:24</td>\n",
       "      <td>GoAir</td>\n",
       "      <td>G8 - 526</td>\n",
       "      <td>2019-04-30</td>\n",
       "      <td>22:15</td>\n",
       "      <td>BLR</td>\n",
       "      <td>1h 50m</td>\n",
       "      <td>Non Stop</td>\n",
       "      <td>NA</td>\n",
       "      <td>00:05</td>\n",
       "      <td>BOM</td>\n",
       "      <td>3,652</td>\n",
       "    </tr>\n",
       "    <tr>\n",
       "      <th>2</th>\n",
       "      <td>2019-05-11 22:48:24</td>\n",
       "      <td>GoAir</td>\n",
       "      <td>G8 - 418</td>\n",
       "      <td>2019-04-30</td>\n",
       "      <td>05:45</td>\n",
       "      <td>BLR</td>\n",
       "      <td>1h 35m</td>\n",
       "      <td>Non Stop</td>\n",
       "      <td>NA</td>\n",
       "      <td>07:20</td>\n",
       "      <td>BOM</td>\n",
       "      <td>3,652</td>\n",
       "    </tr>\n",
       "    <tr>\n",
       "      <th>3</th>\n",
       "      <td>2019-05-11 22:48:24</td>\n",
       "      <td>Air Asia</td>\n",
       "      <td>I5 - 303</td>\n",
       "      <td>2019-04-30</td>\n",
       "      <td>05:30</td>\n",
       "      <td>BLR</td>\n",
       "      <td>1h 45m</td>\n",
       "      <td>Non Stop</td>\n",
       "      <td>NA</td>\n",
       "      <td>07:15</td>\n",
       "      <td>BOM</td>\n",
       "      <td>3,732</td>\n",
       "    </tr>\n",
       "    <tr>\n",
       "      <th>4</th>\n",
       "      <td>2019-05-11 22:48:24</td>\n",
       "      <td>IndiGo</td>\n",
       "      <td>6E - 5322</td>\n",
       "      <td>2019-04-30</td>\n",
       "      <td>05:30</td>\n",
       "      <td>BLR</td>\n",
       "      <td>1h 45m</td>\n",
       "      <td>Non Stop</td>\n",
       "      <td>NA</td>\n",
       "      <td>07:15</td>\n",
       "      <td>BOM</td>\n",
       "      <td>3,734</td>\n",
       "    </tr>\n",
       "  </tbody>\n",
       "</table>\n",
       "</div>"
      ],
      "text/plain": [
       "            RecordDate   Airline     Flight   Dept_Date Dept_Time Origin  \\\n",
       "0  2019-05-11 22:48:24    IndiGo   6E - 456  2019-04-30     05:05    BLR   \n",
       "1  2019-05-11 22:48:24     GoAir   G8 - 526  2019-04-30     22:15    BLR   \n",
       "2  2019-05-11 22:48:24     GoAir   G8 - 418  2019-04-30     05:45    BLR   \n",
       "3  2019-05-11 22:48:24  Air Asia   I5 - 303  2019-04-30     05:30    BLR   \n",
       "4  2019-05-11 22:48:24    IndiGo  6E - 5322  2019-04-30     05:30    BLR   \n",
       "\n",
       "  Duration     Stops Arr_Date Arr_Time Destination Total_Fare  \n",
       "0   1h 45m  Non Stop       NA    06:50         BOM      3,346  \n",
       "1   1h 50m  Non Stop       NA    00:05         BOM      3,652  \n",
       "2   1h 35m  Non Stop       NA    07:20         BOM      3,652  \n",
       "3   1h 45m  Non Stop       NA    07:15         BOM      3,732  \n",
       "4   1h 45m  Non Stop       NA    07:15         BOM      3,734  "
      ]
     },
     "execution_count": 52,
     "metadata": {},
     "output_type": "execute_result"
    }
   ],
   "source": [
    "RecordDate = str(datetime.now().strftime(\"%Y-%m-%d %H:%M:%S\"))\n",
    "DepDate = \"2019-04-30\"\n",
    "ArrDate =\"NA\"\n",
    "rows=[]\n",
    "for elem in div_elem:\n",
    "    row = elem.text.split(\"\\n\")\n",
    "    row=row[:-3]\n",
    "    row.insert(0,RecordDate)\n",
    "    row.insert(3,DepDate)\n",
    "    row.insert(8,ArrDate)\n",
    "    rows.append(row)\n",
    "    \n",
    "data = pd.DataFrame(rows,columns=['RecordDate','Airline','Flight','Dept_Date','Dept_Time','Origin','Duration','Stops','Arr_Date','Arr_Time','Destination','Total_Fare'])\n",
    "data.head()\n",
    "    \n",
    "    "
   ]
  },
  {
   "cell_type": "code",
   "execution_count": 53,
   "metadata": {},
   "outputs": [],
   "source": [
    "files_dir = 'C:\\\\Self_Work\\\\oneGo\\\\onego_poc1\\\\files'\n",
    "filename = 'paytm_flights.csv'\n",
    "data.to_csv(files_dir+'\\\\'+ filename, mode='a', index=False)\n"
   ]
  },
  {
   "cell_type": "code",
   "execution_count": null,
   "metadata": {},
   "outputs": [],
   "source": []
  }
 ],
 "metadata": {
  "kernelspec": {
   "display_name": "Python 3",
   "language": "python",
   "name": "python3"
  },
  "language_info": {
   "codemirror_mode": {
    "name": "ipython",
    "version": 3
   },
   "file_extension": ".py",
   "mimetype": "text/x-python",
   "name": "python",
   "nbconvert_exporter": "python",
   "pygments_lexer": "ipython3",
   "version": "3.7.3"
  }
 },
 "nbformat": 4,
 "nbformat_minor": 2
}

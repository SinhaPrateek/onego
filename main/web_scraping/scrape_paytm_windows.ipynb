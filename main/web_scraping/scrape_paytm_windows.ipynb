{
 "cells": [
  {
   "cell_type": "code",
   "execution_count": 1,
   "metadata": {},
   "outputs": [],
   "source": [
    "from selenium import webdriver\n",
    "from selenium.webdriver.common.keys import Keys\n",
    "import pandas as pd\n",
    "import os\n",
    "from datetime import datetime\n",
    "rootDir = os.getcwd()\n",
    "import itertools\n"
   ]
  },
  {
   "cell_type": "code",
   "execution_count": 2,
   "metadata": {},
   "outputs": [
    {
     "data": {
      "text/plain": [
       "'C:\\\\Self_Work\\\\oneGo\\\\onego_poc1\\\\main\\\\web_scraping'"
      ]
     },
     "execution_count": 2,
     "metadata": {},
     "output_type": "execute_result"
    }
   ],
   "source": [
    "rootDir"
   ]
  },
  {
   "cell_type": "markdown",
   "metadata": {},
   "source": [
    "### Create list of indian and foreign airports using data in file airports.py"
   ]
  },
  {
   "cell_type": "code",
   "execution_count": 3,
   "metadata": {},
   "outputs": [
    {
     "name": "stdout",
     "output_type": "stream",
     "text": [
      "indian_airports list size: 133\n",
      "foreign_airports list size: 9354\n"
     ]
    }
   ],
   "source": [
    "airports_file = r'C:\\Self_Work\\oneGo\\onego_poc1\\files\\airports.py'\n",
    "airports_dict = {}\n",
    "indian_airports = []\n",
    "foreign_airports = []\n",
    "with open(airports_file) as f:      # using this code takes care op closing the file\n",
    "          for line in f:\n",
    "            airport_key = line.split(' = ')[0]\n",
    "            airport_details = line.split(' = ')[1]\n",
    "            airports_dict[airport_key] = eval(airport_details)\n",
    "\n",
    "for value in airports_dict.values():\n",
    "    if (value.get('country')=='India'):\n",
    "        indian_airport = \"%s-%s\"%(value.get('code'),value.get('city'))\n",
    "        indian_airports.append(indian_airport)\n",
    "    else:\n",
    "        foreign_airport = \"%s-%s\"%(value.get('code'),value.get('city'))\n",
    "        foreign_airports.append(foreign_airport)\n",
    "        \n",
    "print(\"indian_airports list size: %d\" % len(indian_airports))\n",
    "print(\"foreign_airports list size: %d\" % len(foreign_airports))    \n",
    "    \n",
    "            \n",
    "          \n",
    "\n"
   ]
  },
  {
   "cell_type": "code",
   "execution_count": 4,
   "metadata": {},
   "outputs": [
    {
     "name": "stdout",
     "output_type": "stream",
     "text": [
      "['AGR-Agra', 'AGX-Agatti Island', 'AJL-Aizawl', 'AKD-Akola', 'AMD-Ahmedabad', 'ATQ-Amritsar', 'BBI-Bhubaneswar', 'BDQ-Vadodara', 'BEK-Bareli', 'BEP-Bellary', 'BHJ-Bhuj', 'BHO-Bhopal', 'BHU-Bhavnagar', 'BKB-Bikaner', 'BLR-Bangalore', 'BOM-Mumbai', 'BUP-Bhatinda', 'CBD-Car Nicobar', 'CCJ-Calicut', 'CCU-Kolkata', 'CDP-Cuddapah', 'CJB-Coimbatore', 'COH-Cooch Behar', 'COK-Kochi', 'DAE-Daparizo', 'DAI-Darjeeling', 'DBD-Dhanbad', 'DED-Dehra Dun', 'DEL-New Delhi', 'DEP-Deparizo', 'DHM-Dharamshala', 'DIB-Dibrugarh', 'DIU-Diu', 'DMU-Dimapur', 'GAU-Guwahati', 'GAY-Gaya', 'GOI-Goa', 'GOP-Gorakhpur', 'GUX-Guna', 'GWL-Gwalior', 'HBX-Hubli', 'HJR-Khajuraho', 'HSS-Hissar', 'HYD-Hyderabad', 'IDR-Indore', 'IMF-Imphal', 'ISK-Nasik', 'IXA-Agartala', 'IXB-Siliguri', 'IXC-Chandigarh', 'IXD-Allahabad', 'IXE-Mangalore', 'IXG-Belgaum', 'IXH-Kailashahar', 'IXI-Lilabari', 'IXJ-Jammu', 'IXK-Keshod', 'IXL-Leh', 'IXM-Madurai', 'IXN-Khowai', 'IXP-Pathankot', 'IXQ-Kamalpur', 'IXR-Ranchi', 'IXS-Silchar', 'IXT-Pasighat', 'IXU-Aurangabad', 'IXV-Along', 'IXW-Jamshedpur', 'IXY-Kandla', 'IXZ-Port Blair', 'JAI-Jaipur', 'JDH-Jodhpur', 'JGA-Jamnagar', 'JGB-Jagdalpur', 'JLR-Jabalpur', 'JRH-Jorhat', 'JSA-Jaisalmer', 'KLH-Kolhapur', 'KNU-Kanpur', 'KTU-Kota', 'KUU-Bhuntar Kullu.', 'LDA-Malda', 'LKO-Lucknow', 'LTU-Latur', 'LUH-Ludhiana', 'MAA-Chennai', 'MOH-Dibrugarh', 'MYQ-Mysore', 'MZA-Muzaffarnagar', 'MZU-Muzaffarpur', 'NAG-Nagpur', 'NDC-Nanded', 'NMB-Daman', 'NVY-Neyveli', 'OMN-Osmanabad', 'PAB-Bilaspur', 'PAT-Patna', 'PBD-Porbandar', 'PGH-Pantnagar', 'PNQ-Pune', 'PNY-Pondicherry', 'PUT-Puttaparthi', 'PYB-Jeypore', 'RAJ-Rajkot', 'REW-Rewa', 'RGH-Balurghat', 'RJA-Rajahmundry', 'RJI-Rajouri', 'RMD-Ramagundam', 'RPR-Raipur', 'RRK-Rourkela', 'RTC-Ratnagiri', 'RUP-Rupsi', 'SHL-Shillong', 'SLV-Simla', 'SSE-Sholapur', 'STV-Surat', 'SXR-Srinagar', 'SXV-Salem', 'TCR-Tuticorin', 'TEI-Tezu', 'TEZ-Tezpur', 'TIR-Tirupati', 'TJV-Thanjavur', 'TNI-Satna', 'TRV-Thiruvananthapuram', 'TRZ-Trichy', 'UDR-Udaipur', 'VGA-Vijayawada', 'VNS-Varanasi', 'VTZ-Visakhapatnam', 'WGC-Warangal', 'ZER-Zero']\n"
     ]
    }
   ],
   "source": [
    "print(indian_airports)\n"
   ]
  },
  {
   "cell_type": "code",
   "execution_count": 7,
   "metadata": {},
   "outputs": [],
   "source": [
    "# url = \"https://paytm.com/flights/flightSearch/AGR-Agra/AGX-Agatti Island/1/0/0/E/2019-05-30\"\n",
    "# url = \"https://paytm.com/flights/flightSearch/STV-Surat/TIR-Tirupati/1/0/0/E/2019-05-30\"\n",
    "url = \"https://paytm.com/flights/flightSearch/BLR-Bengaluru/BOM-Mumbai/1/0/0/E/2019-09-01\"\n",
    "data = pd.DataFrame(columns=['RecordDate','Airline','Flight','Dept_Date','Dept_Time','Origin','Duration','Stops','Arr_Date','Arr_Time','Destination','Total_Fare'])\n",
    "files_dir = 'C:\\\\Self_Work\\\\oneGo\\\\onego_poc1\\\\files\\scraped_data'\n",
    "filename = 'paytm_flights.csv'\n",
    "data.to_csv(files_dir+'\\\\'+ filename, mode='a', index=False)\n",
    "DepDate = \"2019-09-01\"\n",
    "\n",
    "def scrape_and_save(url):\n",
    "    driver = webdriver.Chrome('C:/Self_Work/oneGo/onego_poc1/files/chromedriver')          \n",
    "    driver.implicitly_wait(30)\n",
    "    driver.get(url)\n",
    "\n",
    "    div_elem = driver.find_elements_by_css_selector('._3215.row')\n",
    "    if len(div_elem)!=0:\n",
    "        RecordDate = str(datetime.now().strftime(\"%Y-%m-%d %H:%M:%S\"))\n",
    "        \n",
    "        ArrDate =\"NA\"\n",
    "        rows=[]\n",
    "        for elem in div_elem:\n",
    "            row = elem.text.split(\"\\n\")   # list of values\n",
    "            row=row[:-3]              # discard last three elements \n",
    "            row.insert(0,RecordDate)\n",
    "            row.insert(3,DepDate)\n",
    "            row.insert(8,ArrDate)\n",
    "            rows.append(row)\n",
    "\n",
    "        data = pd.DataFrame(rows,columns=['RecordDate','Airline','Flight','Dept_Date','Dept_Time','Origin','Duration','Stops','Arr_Date','Arr_Time','Destination','Total_Fare'])\n",
    "        print(data.shape)\n",
    "        data.to_csv(files_dir+'\\\\' + filename, mode='a', index=False, header = False)\n",
    "        "
   ]
  },
  {
   "cell_type": "markdown",
   "metadata": {},
   "source": [
    "### Create urls for each pair of airports and call scrape_and_save method"
   ]
  },
  {
   "cell_type": "code",
   "execution_count": 8,
   "metadata": {},
   "outputs": [
    {
     "name": "stdout",
     "output_type": "stream",
     "text": [
      "(131, 12)\n",
      "https://paytm.com/flights/flightSearch/BLR-Bengaluru/BOM-Mumbai/1/0/0/E/2019-09-01\n",
      "1\n"
     ]
    }
   ],
   "source": [
    "cnt = 0\n",
    "for pair in itertools.combinations(indian_airports,2):\n",
    "    if(cnt>0):\n",
    "        break\n",
    "    origin = pair[0]\n",
    "    destination = pair[1]\n",
    "#     url = \"https://paytm.com/flights/flightSearch/%s/%s/1/0/0/E/2019-05-30\" %(origin,destination)\n",
    "    scrape_and_save(url)\n",
    "    cnt=cnt+1\n",
    "    print(url)\n",
    "    print(cnt)"
   ]
  },
  {
   "cell_type": "code",
   "execution_count": 13,
   "metadata": {},
   "outputs": [
    {
     "name": "stdout",
     "output_type": "stream",
     "text": [
      "total_time in days: 0.4572685185185185\n"
     ]
    }
   ],
   "source": [
    "import math\n",
    "t_per_call = 33.2\n",
    "n_airports = 35\n",
    "n_calls = math.factorial(n_airports)/math.factorial(n_airports-2)\n",
    "total_time = n_calls*t_per_call/(60*60*24)\n",
    "print(\"total_time in days: {}\".format(total_time))"
   ]
  },
  {
   "cell_type": "code",
   "execution_count": 10,
   "metadata": {},
   "outputs": [
    {
     "data": {
      "text/plain": [
       "2450.0"
      ]
     },
     "execution_count": 10,
     "metadata": {},
     "output_type": "execute_result"
    }
   ],
   "source": [
    "n_calls"
   ]
  },
  {
   "cell_type": "code",
   "execution_count": null,
   "metadata": {},
   "outputs": [],
   "source": []
  }
 ],
 "metadata": {
  "kernelspec": {
   "display_name": "Python 3",
   "language": "python",
   "name": "python3"
  },
  "language_info": {
   "codemirror_mode": {
    "name": "ipython",
    "version": 3
   },
   "file_extension": ".py",
   "mimetype": "text/x-python",
   "name": "python",
   "nbconvert_exporter": "python",
   "pygments_lexer": "ipython3",
   "version": "3.7.3"
  }
 },
 "nbformat": 4,
 "nbformat_minor": 2
}
